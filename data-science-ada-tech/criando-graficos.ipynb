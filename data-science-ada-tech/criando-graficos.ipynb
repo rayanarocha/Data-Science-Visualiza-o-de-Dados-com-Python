{
 "cells": [
  {
   "cell_type": "code",
   "execution_count": 10,
   "metadata": {},
   "outputs": [],
   "source": [
    "import pandas as pd\n",
    "import matplotlib.pyplot as plt\n",
    "\n",
    "df = pd.read_csv('netflix.csv')\n",
    "df = df.drop(df.columns[0], axis=1)"
   ]
  },
  {
   "cell_type": "code",
   "execution_count": 3,
   "metadata": {},
   "outputs": [
    {
     "data": {
      "text/html": [
       "<div>\n",
       "<style scoped>\n",
       "    .dataframe tbody tr th:only-of-type {\n",
       "        vertical-align: middle;\n",
       "    }\n",
       "\n",
       "    .dataframe tbody tr th {\n",
       "        vertical-align: top;\n",
       "    }\n",
       "\n",
       "    .dataframe thead th {\n",
       "        text-align: right;\n",
       "    }\n",
       "</style>\n",
       "<table border=\"1\" class=\"dataframe\">\n",
       "  <thead>\n",
       "    <tr style=\"text-align: right;\">\n",
       "      <th></th>\n",
       "      <th>rating</th>\n",
       "      <th>ratinglevel</th>\n",
       "      <th>ratingdescription</th>\n",
       "      <th>release_year</th>\n",
       "      <th>user_rating_score</th>\n",
       "      <th>user_rating_size</th>\n",
       "    </tr>\n",
       "  </thead>\n",
       "  <tbody>\n",
       "    <tr>\n",
       "      <th>0</th>\n",
       "      <td>PG-13</td>\n",
       "      <td>crude and sexual humor, language and some drug...</td>\n",
       "      <td>80</td>\n",
       "      <td>2004</td>\n",
       "      <td>82.0</td>\n",
       "      <td>80</td>\n",
       "    </tr>\n",
       "    <tr>\n",
       "      <th>1</th>\n",
       "      <td>R</td>\n",
       "      <td>strong violence, sexual content and adult lang...</td>\n",
       "      <td>100</td>\n",
       "      <td>2006</td>\n",
       "      <td>NaN</td>\n",
       "      <td>82</td>\n",
       "    </tr>\n",
       "    <tr>\n",
       "      <th>2</th>\n",
       "      <td>TV-14</td>\n",
       "      <td>Parents strongly cautioned. May be unsuitable ...</td>\n",
       "      <td>90</td>\n",
       "      <td>2016</td>\n",
       "      <td>98.0</td>\n",
       "      <td>80</td>\n",
       "    </tr>\n",
       "    <tr>\n",
       "      <th>3</th>\n",
       "      <td>TV-14</td>\n",
       "      <td>Parents strongly cautioned. May be unsuitable ...</td>\n",
       "      <td>90</td>\n",
       "      <td>2008</td>\n",
       "      <td>98.0</td>\n",
       "      <td>80</td>\n",
       "    </tr>\n",
       "    <tr>\n",
       "      <th>4</th>\n",
       "      <td>TV-PG</td>\n",
       "      <td>Parental guidance suggested. May not be suitab...</td>\n",
       "      <td>70</td>\n",
       "      <td>2014</td>\n",
       "      <td>94.0</td>\n",
       "      <td>80</td>\n",
       "    </tr>\n",
       "  </tbody>\n",
       "</table>\n",
       "</div>"
      ],
      "text/plain": [
       "  rating                                        ratinglevel  \\\n",
       "0  PG-13  crude and sexual humor, language and some drug...   \n",
       "1      R  strong violence, sexual content and adult lang...   \n",
       "2  TV-14  Parents strongly cautioned. May be unsuitable ...   \n",
       "3  TV-14  Parents strongly cautioned. May be unsuitable ...   \n",
       "4  TV-PG  Parental guidance suggested. May not be suitab...   \n",
       "\n",
       "   ratingdescription  release_year  user_rating_score  user_rating_size  \n",
       "0                 80          2004               82.0                80  \n",
       "1                100          2006                NaN                82  \n",
       "2                 90          2016               98.0                80  \n",
       "3                 90          2008               98.0                80  \n",
       "4                 70          2014               94.0                80  "
      ]
     },
     "execution_count": 3,
     "metadata": {},
     "output_type": "execute_result"
    }
   ],
   "source": [
    "df.head()"
   ]
  },
  {
   "cell_type": "code",
   "execution_count": 7,
   "metadata": {},
   "outputs": [],
   "source": [
    "eixo_x = df['ratinglevel'].value_counts().keys()\n",
    "eixo_y = eixo_x = df['ratinglevel'].value_counts().values"
   ]
  },
  {
   "cell_type": "code",
   "execution_count": 14,
   "metadata": {},
   "outputs": [
    {
     "data": {
      "image/png": "[encoded data removed]",
      "text/plain": [
       "<Figure size 640x480 with 1 Axes>"
      ]
     },
     "metadata": {},
     "output_type": "display_data"
    }
   ],
   "source": [
    "plt.bar(eixo_x, eixo_y)\n",
    "plt.title('Filmes por gênero')\n",
    "plt.xlabel('Gêneros de filmes')\n",
    "plt.ylabel('Quantidade')\n",
    "plt.xticks(rotation = 45)\n",
    "plt.show()"
   ]
  }
 ],
 "metadata": {
  "kernelspec": {
   "display_name": "Python 3",
   "language": "python",
   "name": "python3"
  },
  "language_info": {
   "codemirror_mode": {
    "name": "ipython",
    "version": 3
   },
   "file_extension": ".py",
   "mimetype": "text/x-python",
   "name": "python",
   "nbconvert_exporter": "python",
   "pygments_lexer": "ipython3",
   "version": "3.10.7"
  }
 },
 "nbformat": 4,
 "nbformat_minor": 2
}
